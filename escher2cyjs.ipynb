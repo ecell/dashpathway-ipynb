{
 "cells": [
  {
   "cell_type": "code",
   "execution_count": 1,
   "metadata": {},
   "outputs": [
    {
     "data": {
      "text/html": [
       "<div>\n",
       "  <iframe src=\"/user/ecell-dashpathway-ipynb-pu7cz68x/app/endpoints/17ef540b8c414521b5044c2fceca084c/\" width=800 height=600 frameborder=\"0\"></iframe>\n",
       "  <hr/><a href=\"/user/ecell-dashpathway-ipynb-pu7cz68x/app/endpoints/17ef540b8c414521b5044c2fceca084c/\" target=\"_new\">Open in new window</a> for /user/ecell-dashpathway-ipynb-pu7cz68x/app/endpoints/17ef540b8c414521b5044c2fceca084c/\n",
       "</div>"
      ],
      "text/plain": [
       "<jupyter_plotly_dash.dash_wrapper.JupyterDash at 0x7f919d4ed080>"
      ]
     },
     "execution_count": 1,
     "metadata": {},
     "output_type": "execute_result"
    }
   ],
   "source": [
    "from jupyter_plotly_dash import JupyterDash\n",
    "\n",
    "import dash\n",
    "import dash_core_components as dcc\n",
    "import dash_html_components as html\n",
    "from dash.dependencies import Input, Output\n",
    "import dash_cytoscape as cyto\n",
    "\n",
    "app = JupyterDash('SimpleExample')\n",
    "\n",
    "import json\n",
    "\n",
    "with open('e2c.cyjs') as json_file:\n",
    "    e2c = json.load(json_file)['elements']\n",
    "\n",
    "app.layout = html.Div([\n",
    "    cyto.Cytoscape(\n",
    "        id='cytoscape-two-nodes',\n",
    "        layout={'name': 'preset'},\n",
    "        style={'width': '100%', 'height': '800px'},\n",
    "        elements=e2c['nodes'] + e2c['edges']\n",
    "    )\n",
    "])\n",
    "\n",
    "app"
   ]
  },
  {
   "cell_type": "code",
   "execution_count": null,
   "metadata": {},
   "outputs": [],
   "source": []
  }
 ],
 "metadata": {
  "kernelspec": {
   "display_name": "Python 3",
   "language": "python",
   "name": "python3"
  },
  "language_info": {
   "codemirror_mode": {
    "name": "ipython",
    "version": 3
   },
   "file_extension": ".py",
   "mimetype": "text/x-python",
   "name": "python",
   "nbconvert_exporter": "python",
   "pygments_lexer": "ipython3",
   "version": "3.7.3"
  }
 },
 "nbformat": 4,
 "nbformat_minor": 2
}
